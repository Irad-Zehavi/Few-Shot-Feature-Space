{
 "cells": [
  {
   "cell_type": "markdown",
   "metadata": {},
   "source": [
    "# Utils"
   ]
  },
  {
   "cell_type": "code",
   "execution_count": null,
   "metadata": {},
   "outputs": [],
   "source": [
    "#| default_exp utils"
   ]
  },
  {
   "cell_type": "code",
   "execution_count": null,
   "metadata": {},
   "outputs": [],
   "source": [
    "#| export\n",
    "from dataclasses import dataclass\n",
    "\n",
    "from torch import Tensor\n",
    "\n",
    "from fastai.vision.all import *\n",
    "\n",
    "\n",
    "@dataclass\n",
    "class ClassFeatures(object):\n",
    "    ftrs: Tensor\n",
    "\n",
    "    @classmethod\n",
    "    def compute(cls, dl, fe, min_samples=0):\n",
    "        fe.cuda().eval().requires_grad_(False)\n",
    "        features, targets = L((fe(x), y) for x, y in progress_bar(dl)).zip().map(torch.cat)\n",
    "        return {t.item(): cls(features[targets==t].as_subclass(Tensor).detach())\n",
    "                for t in targets.unique() if features[targets==t].size(0) > min_samples}\n",
    "\n",
    "    @property\n",
    "    def centroid(self):\n",
    "        return self.ftrs.mean(0)"
   ]
  },
  {
   "cell_type": "code",
   "execution_count": null,
   "metadata": {},
   "outputs": [],
   "source": [
    "#| export\n",
    "from scipy.stats import norm\n",
    "import matplotlib.pyplot as plt\n",
    "\n",
    "\n",
    "def plot_hist(angles, fit_gausiann=True, ax=None):\n",
    "    ax = ax or plt.subplot()\n",
    "    _, bins, _ = ax.hist(angles, bins='auto', label='Angle', alpha=.5, edgecolor='black', lw=1, density=True)\n",
    "    if fit_gausiann:\n",
    "        mu, sigma = norm.fit(angles)\n",
    "        y = norm.pdf(bins, mu, sigma)\n",
    "        ax.plot(bins, y)\n",
    "\n",
    "    return ax"
   ]
  },
  {
   "cell_type": "code",
   "execution_count": null,
   "metadata": {},
   "outputs": [],
   "source": [
    "#| hide\n",
    "import nbdev; nbdev.nbdev_export()"
   ]
  }
 ],
 "metadata": {
  "kernelspec": {
   "display_name": "python3",
   "language": "python",
   "name": "python3"
  }
 },
 "nbformat": 4,
 "nbformat_minor": 2
}
