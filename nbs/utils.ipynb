{
 "cells": [
  {
   "cell_type": "markdown",
   "metadata": {},
   "source": [
    "# Utils"
   ]
  },
  {
   "cell_type": "code",
   "execution_count": null,
   "metadata": {},
   "outputs": [],
   "source": [
    "#| default_exp utils"
   ]
  },
  {
   "cell_type": "code",
   "execution_count": null,
   "metadata": {},
   "outputs": [],
   "source": [
    "#| export\n",
    "from fastai.vision.all import *\n",
    "\n",
    "from similarity_learning.all import *\n",
    "\n",
    "\n",
    "def fr_feature_extractors():\n",
    "    return [cut_model_by_name(FaceNetInceptionResnetV1(pretrained, classify=False), 'last_bn')\n",
    "            for pretrained in ['vggface2', 'casia-webface']]\n",
    "\n",
    "\n",
    "def fr_dataloaders():\n",
    "    return (LFWPeople().all().train.dl(),\n",
    "            PinterestFaces(splitter=IndexSplitter([])).train.dl())\n"
   ]
  },
  {
   "cell_type": "code",
   "execution_count": null,
   "metadata": {},
   "outputs": [],
   "source": [
    "#| export\n",
    "from torch import Tensor\n",
    "\n",
    "from fastai.vision.all import *\n",
    "\n",
    "\n",
    "class ClassFeatures(Tensor):\n",
    "    @classmethod\n",
    "    def compute(cls, dl, fe, min_samples=0):\n",
    "        fe.cuda().eval().requires_grad_(False)\n",
    "        features, targets = L((fe(x), y) for x, y in progress_bar(dl)).zip().map(torch.cat)\n",
    "        return {t.item(): cls(features[targets==t].as_subclass(Tensor).detach())\n",
    "                for t in targets.unique() if features[targets==t].size(0) > min_samples}\n",
    "\n",
    "    @property\n",
    "    def centroid(self):\n",
    "        return self.mean(0)\n",
    "\n",
    "    @property\n",
    "    def centroid_dir(self):\n",
    "        return F.normalize(self.centroid, dim=0)\n",
    "\n",
    "    @property\n",
    "    def off_centroid_features(self):\n",
    "        proj_mat = self.centroid_dir.outer(self.centroid_dir)\n",
    "        return self - (self @ proj_mat)"
   ]
  },
  {
   "cell_type": "code",
   "execution_count": null,
   "metadata": {},
   "outputs": [],
   "source": [
    "#| export\n",
    "import seaborn as sns\n",
    "\n",
    "\n",
    "def plot_hist(values, title=None, **kwargs):\n",
    "    ax = sns.kdeplot(values, **kwargs)\n",
    "    ax.set_title(title or f'$\\mu={values.mean().round(decimals=2)}, \\sigma={values.std().round(decimals=2)}$')\n",
    "    return ax"
   ]
  },
  {
   "cell_type": "code",
   "execution_count": null,
   "metadata": {},
   "outputs": [],
   "source": [
    "#| hide\n",
    "import nbdev; nbdev.nbdev_export()"
   ]
  }
 ],
 "metadata": {
  "kernelspec": {
   "display_name": "python3",
   "language": "python",
   "name": "python3"
  }
 },
 "nbformat": 4,
 "nbformat_minor": 2
}
